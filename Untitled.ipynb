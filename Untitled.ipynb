{
 "cells": [
  {
   "cell_type": "code",
   "execution_count": 4,
   "id": "8b03d5e2-6baf-4994-848b-182d0a0b3c90",
   "metadata": {},
   "outputs": [
    {
     "data": {
      "text/plain": [
       "(a, b, c, u, v, w)"
      ]
     },
     "execution_count": 4,
     "metadata": {},
     "output_type": "execute_result"
    }
   ],
   "source": [
    "var('a,b,c, u,v,w')"
   ]
  },
  {
   "cell_type": "code",
   "execution_count": 5,
   "id": "f7f10b76-dff5-45b9-9ff5-4b9ff9d72256",
   "metadata": {},
   "outputs": [
    {
     "data": {
      "text/plain": [
       "(x, y)"
      ]
     },
     "execution_count": 5,
     "metadata": {},
     "output_type": "execute_result"
    }
   ],
   "source": [
    "var ('x,y')"
   ]
  },
  {
   "cell_type": "code",
   "execution_count": 6,
   "id": "36c33bac-2f37-4497-9d2f-398f720b49eb",
   "metadata": {},
   "outputs": [
    {
     "data": {
      "text/plain": [
       "[[x == (c*v - b*w)/(b*u - a*v), y == -(c*u - a*w)/(b*u - a*v)]]"
      ]
     },
     "execution_count": 6,
     "metadata": {},
     "output_type": "execute_result"
    }
   ],
   "source": [
    "solve([a*x+b*y + c == 0, u*x + v*y + w == 0],x,y)"
   ]
  },
  {
   "cell_type": "code",
   "execution_count": null,
   "id": "1217acaf-87b4-4fde-982e-911faca97778",
   "metadata": {},
   "outputs": [],
   "source": []
  }
 ],
 "metadata": {
  "kernelspec": {
   "display_name": "Python 3 (ipykernel)",
   "language": "python",
   "name": "python3"
  },
  "language_info": {
   "codemirror_mode": {
    "name": "ipython",
    "version": 3
   },
   "file_extension": ".py",
   "mimetype": "text/x-python",
   "name": "python",
   "nbconvert_exporter": "python",
   "pygments_lexer": "ipython3",
   "version": "3.12.8"
  }
 },
 "nbformat": 4,
 "nbformat_minor": 5
}
