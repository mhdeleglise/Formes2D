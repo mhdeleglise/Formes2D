{
 "cells": [
  {
   "cell_type": "code",
   "execution_count": 1,
   "id": "382923fe-fe28-4d0a-b7fc-3a7f49c16e40",
   "metadata": {},
   "outputs": [],
   "source": [
    "from formes2d import *\n",
    "from Geo import *\n",
    "from Polygones import *\n",
    "from cercles import *\n",
    "from droites import *"
   ]
  },
  {
   "cell_type": "code",
   "execution_count": 2,
   "id": "8fe36dba-70ae-4ae7-984a-8c7a22a745fd",
   "metadata": {},
   "outputs": [
    {
     "ename": "NameError",
     "evalue": "name 'p1' is not defined",
     "output_type": "error",
     "traceback": [
      "\u001b[0;31m---------------------------------------------------------------------------\u001b[0m",
      "\u001b[0;31mNameError\u001b[0m                                 Traceback (most recent call last)",
      "Cell \u001b[0;32mIn[2], line 5\u001b[0m\n\u001b[1;32m      3\u001b[0m AB\u001b[38;5;241m=\u001b[39mSegment(A, B)\n\u001b[1;32m      4\u001b[0m d1 \u001b[38;5;241m=\u001b[39m Droite(\u001b[38;5;241m1\u001b[39m,\u001b[38;5;241m2\u001b[39m,\u001b[38;5;241m3\u001b[39m)\n\u001b[0;32m----> 5\u001b[0m d4 \u001b[38;5;241m=\u001b[39m DemiDroite(\u001b[43mp1\u001b[49m,(\u001b[38;5;241m+\u001b[39m\u001b[38;5;241m1\u001b[39m,\u001b[38;5;241m-\u001b[39m\u001b[38;5;241m1\u001b[39m))\n\u001b[1;32m      6\u001b[0m d5 \u001b[38;5;241m=\u001b[39m DemiDroite(p1,(\u001b[38;5;241m+\u001b[39m\u001b[38;5;241m1\u001b[39m,\u001b[38;5;241m1\u001b[39m))\n\u001b[1;32m      7\u001b[0m fig, ax \u001b[38;5;241m=\u001b[39m plt\u001b[38;5;241m.\u001b[39msubplots()\n",
      "\u001b[0;31mNameError\u001b[0m: name 'p1' is not defined"
     ]
    }
   ],
   "source": [
    "A = Point(0, 1,'A')\n",
    "B = Point(2, -2,'B')\n",
    "AB=Segment(A, B)\n",
    "d1 = Droite(1,2,3)\n",
    "d4 = DemiDroite(A,(+1,-1))\n",
    "d5 = DemiDroite(A,(+1,1))\n",
    "fig, ax = plt.subplots()\n",
    "\n",
    "plt.xlim((-3,5))\n",
    "plt.ylim((-2,5))\n",
    "d4.draw(ax)\n",
    "d5.draw(ax)\n",
    "d1.draw(ax,color='blue',lw=3)\n",
    "AB.draw(ax, color='red', lw=5,linestyle='dashdot')\n",
    "A.draw(ax,dx=0.1,color='red', s=30)\n",
    "B.draw(ax,dx=0.1,color='green',namecolor='black',s=5)\n",
    "plt.margins(0,0)\n",
    "plt.axis('equal')\n",
    "print(\"Margins= \",plt.margins())"
   ]
  },
  {
   "cell_type": "code",
   "execution_count": null,
   "id": "ad616c15-254a-4ba8-a5a8-61fbb49f5fde",
   "metadata": {},
   "outputs": [],
   "source": [
    "p1 = Point(0, 0,'A')\n",
    "p2 = Point(2, 0,'B')\n",
    "p3 = Point(1, 2)\n",
    "triang= Polygone([p1, p2, p3])\n",
    "print(triang)\n",
    "cercle = Cercle(Point(1, 1), 1)\n",
    "\n",
    "# Transformation\n",
    "t90 = triang.rotation(pi/2,p2)\n",
    "#cercle.translate(2,2)\n",
    "\n",
    "# Affichage\n",
    "fig, ax = plt.subplots(figsize=(10, 5))\n",
    "ax.set_aspect('equal')\n",
    "triang.draw(ax)\n",
    "t90.draw(color=\"green\")\n",
    "cercle.draw(ax)\n",
    "ax.set_xlim(-3, 10)\n",
    "ax.set_ylim(-3, 5)\n",
    "plt.grid(True)\n",
    "C = Point(4,0,'C')\n",
    "C.draw(ax,namecolor='green')\n",
    "#print(t90.aire())\n",
    "#print(t90.perimetre())\n",
    "t90.translate(2,0)\n",
    "t90.draw()\n",
    "print(\"plt.margins \", plt.margins())\n",
    "axmin, axmax = ax.get_xlim()\n",
    "aymin, aymax = ax.get_ylim()\n"
   ]
  },
  {
   "cell_type": "code",
   "execution_count": null,
   "id": "679054cb-ee42-4e59-92d9-8b4199730b2a",
   "metadata": {},
   "outputs": [],
   "source": [
    "fig, ax = plt.subplots()\n",
    "plt.xlim((0,4))\n",
    "plt.ylim((0,4))\n",
    "d = Droite(1,2,3)\n",
    "d.draw(ax)\n",
    "d2 = droite((1,1), (1,2))\n",
    "d2.str()\n",
    "#d1 = Droite(1,-1,0)\n",
    "#d1.draw(ax)\n",
    "d2.draw(ax)\n",
    "#plt.margins(0,0)\n",
    "plt.margins()\n",
    "plt.axis('on')"
   ]
  },
  {
   "cell_type": "code",
   "execution_count": null,
   "id": "30262bc4-84d0-45ca-a50c-3817237d74bf",
   "metadata": {},
   "outputs": [],
   "source": []
  },
  {
   "cell_type": "code",
   "execution_count": null,
   "id": "c1ab028b-9757-40cd-a4ea-dc57554aae99",
   "metadata": {},
   "outputs": [],
   "source": []
  },
  {
   "cell_type": "code",
   "execution_count": null,
   "id": "a2dfe261-305c-46b0-93dd-1870b10af159",
   "metadata": {},
   "outputs": [],
   "source": []
  },
  {
   "cell_type": "code",
   "execution_count": null,
   "id": "d27e7194-26aa-4304-a8d9-f70934af4dc7",
   "metadata": {},
   "outputs": [],
   "source": []
  }
 ],
 "metadata": {
  "kernelspec": {
   "display_name": "Python 3 (ipykernel)",
   "language": "python",
   "name": "python3"
  },
  "language_info": {
   "codemirror_mode": {
    "name": "ipython",
    "version": 3
   },
   "file_extension": ".py",
   "mimetype": "text/x-python",
   "name": "python",
   "nbconvert_exporter": "python",
   "pygments_lexer": "ipython3",
   "version": "3.12.5"
  }
 },
 "nbformat": 4,
 "nbformat_minor": 5
}
