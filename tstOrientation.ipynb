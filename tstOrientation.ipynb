{
 "cells": [
  {
   "cell_type": "code",
   "execution_count": 1,
   "id": "83241d3f-bc25-409b-aad1-6fc4765c9927",
   "metadata": {},
   "outputs": [],
   "source": [
    "from Geo2d import *\n",
    "from matplotlib import pyplot as plt"
   ]
  },
  {
   "cell_type": "code",
   "execution_count": 2,
   "id": "443ffddd-b6b6-4138-8623-19a8f1f5e9a2",
   "metadata": {},
   "outputs": [
    {
     "data": {
      "image/png": "[encoded data removed]",
      "text/plain": [
       "<Figure size 640x480 with 1 Axes>"
      ]
     },
     "metadata": {},
     "output_type": "display_data"
    }
   ],
   "source": [
    "A = Point(0,0,'A')\n",
    "B = Point(0,1,'B')\n",
    "C = Point(1,0,'C')\n",
    "fig, ax = plt.subplots()\n",
    "ax.set_aspect('equal')\n",
    "for p in (A,B,C):\n",
    "    p.draw(ax,dx=0.012)"
   ]
  },
  {
   "cell_type": "code",
   "execution_count": 4,
   "id": "6ef7b208-a82a-4d69-89c1-6ae81a2f7a3c",
   "metadata": {},
   "outputs": [
    {
     "data": {
      "text/plain": [
       "2"
      ]
     },
     "execution_count": 4,
     "metadata": {},
     "output_type": "execute_result"
    }
   ],
   "source": [
    "orientation(A,B,C)"
   ]
  },
  {
   "cell_type": "code",
   "execution_count": 5,
   "id": "18cb6e16-a072-44c5-bb2e-993097ed396c",
   "metadata": {},
   "outputs": [
    {
     "data": {
      "text/plain": [
       "Vecteur(1,-1)"
      ]
     },
     "execution_count": 5,
     "metadata": {},
     "output_type": "execute_result"
    }
   ],
   "source": [
    "C-B"
   ]
  },
  {
   "cell_type": "code",
   "execution_count": 10,
   "id": "7f8f32b8-e2ae-4542-a63c-789423a915b7",
   "metadata": {},
   "outputs": [
    {
     "data": {
      "text/plain": [
       "-1"
      ]
     },
     "execution_count": 10,
     "metadata": {},
     "output_type": "execute_result"
    }
   ],
   "source": [
    "det(B-A,C-B)"
   ]
  },
  {
   "cell_type": "code",
   "execution_count": null,
   "id": "76cb7e75-2bf2-42d4-b574-62251c687823",
   "metadata": {},
   "outputs": [],
   "source": []
  }
 ],
 "metadata": {
  "kernelspec": {
   "display_name": "Python 3 (ipykernel)",
   "language": "python",
   "name": "python3"
  },
  "language_info": {
   "codemirror_mode": {
    "name": "ipython",
    "version": 3
   },
   "file_extension": ".py",
   "mimetype": "text/x-python",
   "name": "python",
   "nbconvert_exporter": "python",
   "pygments_lexer": "ipython3",
   "version": "3.12.8"
  }
 },
 "nbformat": 4,
 "nbformat_minor": 5
}
